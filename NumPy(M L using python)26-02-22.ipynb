{
 "cells": [
  {
   "cell_type": "code",
   "execution_count": 3,
   "id": "4871ffba",
   "metadata": {},
   "outputs": [
    {
     "name": "stdout",
     "output_type": "stream",
     "text": [
      "Addition is:\n",
      "[[ 7 10]\n",
      " [-3  9]]\n"
     ]
    }
   ],
   "source": [
    "import numpy as np\n",
    "arr1 = np.array([[2, 5], [-6, 0]])\n",
    "arr2 = np.array([[5, 5], [3, 9]])\n",
    "print(\"Addition is:\")\n",
    "print(arr1+arr2)    #Addition of two arrays"
   ]
  },
  {
   "cell_type": "code",
   "execution_count": 4,
   "id": "a9a0763a",
   "metadata": {},
   "outputs": [
    {
     "name": "stdout",
     "output_type": "stream",
     "text": [
      "Addition is:\n",
      "[[ 7 14 10]\n",
      " [-3 12  9]]\n"
     ]
    }
   ],
   "source": [
    "import numpy as np\n",
    "arr3 = np.array([[2,4, 5], [-6,3,0]])\n",
    "arr4 = np.array([[5,10, 5], [3,9, 9]])\n",
    "print(\"Addition is:\")\n",
    "print(arr3+arr4) "
   ]
  },
  {
   "cell_type": "code",
   "execution_count": 5,
   "id": "f0aa8f16",
   "metadata": {},
   "outputs": [
    {
     "name": "stdout",
     "output_type": "stream",
     "text": [
      "Addition is:\n",
      "[[ 7 10]\n",
      " [-3  9]]\n"
     ]
    }
   ],
   "source": [
    "import numpy as np\n",
    "arr1 = np.array([[2, 5], [-6, 0]])\n",
    "arr2 = np.array([[5, 5], [3, 9]])\n",
    "print(\"Addition is:\")\n",
    "print(np.add(arr1,arr2))    #addition using np.add method."
   ]
  },
  {
   "cell_type": "code",
   "execution_count": null,
   "id": "d7009b1e",
   "metadata": {},
   "outputs": [],
   "source": []
  },
  {
   "cell_type": "code",
   "execution_count": 6,
   "id": "abeeb167",
   "metadata": {},
   "outputs": [
    {
     "name": "stdout",
     "output_type": "stream",
     "text": [
      "Subtraction  is:\n",
      "[[-3  0]\n",
      " [-9 -9]]\n"
     ]
    }
   ],
   "source": [
    "#similarly we can subtract , multiply and divide numpy arrays\n",
    "import numpy as np\n",
    "arr1 = np.array([[2, 5], [-6, 0]])\n",
    "arr2 = np.array([[5, 5], [3, 9]])\n",
    "print(\"Subtraction  is:\")\n",
    "print(np.subtract(arr1,arr2))"
   ]
  },
  {
   "cell_type": "code",
   "execution_count": 7,
   "id": "d9d6cc06",
   "metadata": {},
   "outputs": [
    {
     "name": "stdout",
     "output_type": "stream",
     "text": [
      "Multiplication  is:\n",
      "[[ 10  25]\n",
      " [-18   0]]\n"
     ]
    }
   ],
   "source": [
    "import numpy as np\n",
    "arr1 = np.array([[2, 5], [-6, 0]])\n",
    "arr2 = np.array([[5, 5], [3, 9]])\n",
    "print(\"Multiplication  is:\")\n",
    "print(np.multiply(arr1,arr2))"
   ]
  },
  {
   "cell_type": "code",
   "execution_count": 8,
   "id": "a31a9ee8",
   "metadata": {},
   "outputs": [
    {
     "name": "stdout",
     "output_type": "stream",
     "text": [
      "Division is:\n",
      "[[ 0.4  1. ]\n",
      " [-2.   0. ]]\n"
     ]
    }
   ],
   "source": [
    "import numpy as np\n",
    "arr1 = np.array([[2, 5], [-6, 0]])\n",
    "arr2 = np.array([[5, 5], [3, 9]])\n",
    "print(\"Division is:\")\n",
    "print(np.divide(arr1,arr2))"
   ]
  },
  {
   "cell_type": "code",
   "execution_count": 12,
   "id": "ead6196a",
   "metadata": {},
   "outputs": [
    {
     "name": "stdout",
     "output_type": "stream",
     "text": [
      "The bmi of A , B, and C is: [39.11111111 16.9550173  15.30612245]\n",
      "Overweight: ['A']\n",
      "Underweigth: ['B' 'C']\n",
      "Healthy []\n"
     ]
    }
   ],
   "source": [
    "import numpy as np\n",
    "names = np.array(['A','B','C'])\n",
    "height = np.array([1.5, 1.7, 1.4])\n",
    "weight = np.array([88, 49, 30])\n",
    "\n",
    "BMI= weight/height  **2    #finding bmi\n",
    "print('The bmi of A , B, and C is:',BMI)\n",
    "print('Overweight:',names[BMI>25])\n",
    "print('Underweigth:',names[BMI<18.5])\n",
    "print('Healthy',names[(BMI>=18.5) & (BMI<=25)])"
   ]
  },
  {
   "cell_type": "code",
   "execution_count": 13,
   "id": "eaccfc4c",
   "metadata": {},
   "outputs": [
    {
     "name": "stdout",
     "output_type": "stream",
     "text": [
      "Dot product is:\n",
      "[[ 0.4  1. ]\n",
      " [-2.   0. ]]\n"
     ]
    }
   ],
   "source": [
    "import numpy as np\n",
    "arr1 = np.array([[2, 5], [-6, 0]])\n",
    "arr2 = np.array([[5, 5], [3, 9]])\n",
    "print(\"Dot product is:\")\n",
    "print(np.divide(arr1,arr2)) "
   ]
  },
  {
   "cell_type": "code",
   "execution_count": null,
   "id": "b11fd0bc",
   "metadata": {},
   "outputs": [],
   "source": []
  }
 ],
 "metadata": {
  "kernelspec": {
   "display_name": "Python 3 (ipykernel)",
   "language": "python",
   "name": "python3"
  },
  "language_info": {
   "codemirror_mode": {
    "name": "ipython",
    "version": 3
   },
   "file_extension": ".py",
   "mimetype": "text/x-python",
   "name": "python",
   "nbconvert_exporter": "python",
   "pygments_lexer": "ipython3",
   "version": "3.9.10"
  }
 },
 "nbformat": 4,
 "nbformat_minor": 5
}
