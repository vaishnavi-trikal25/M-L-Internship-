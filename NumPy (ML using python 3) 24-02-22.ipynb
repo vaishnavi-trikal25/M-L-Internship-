{
 "cells": [
  {
   "cell_type": "markdown",
   "id": "00adadf7",
   "metadata": {},
   "source": [
    "# NumPy array slicing "
   ]
  },
  {
   "cell_type": "code",
   "execution_count": 1,
   "id": "bc19b8f6",
   "metadata": {},
   "outputs": [
    {
     "name": "stdout",
     "output_type": "stream",
     "text": [
      "[2 3 4 5]\n"
     ]
    }
   ],
   "source": [
    "import numpy as np\n",
    "\n",
    "arr = np.array([1, 2, 3, 4, 5, 6, 7])   # NumPy array with elements from 1 to 7\n",
    "\n",
    "print(arr[1:5])"
   ]
  },
  {
   "cell_type": "code",
   "execution_count": 2,
   "id": "8c4c3e49",
   "metadata": {},
   "outputs": [
    {
     "name": "stdout",
     "output_type": "stream",
     "text": [
      "[5 6]\n"
     ]
    }
   ],
   "source": [
    "#Negative slicing\n",
    "#Slice from the index 3 from the end to index 1 from the end:\n",
    "\n",
    "import numpy as np\n",
    "\n",
    "arr1 = np.array([1, 2, 3, 4, 5, 6, 7])\n",
    "\n",
    "print(arr1[-3:-1])"
   ]
  },
  {
   "cell_type": "code",
   "execution_count": 4,
   "id": "1b3d6230",
   "metadata": {},
   "outputs": [
    {
     "name": "stdout",
     "output_type": "stream",
     "text": [
      "[[ 1  2  3  4  5]\n",
      " [ 6  7  8  9 10]]\n",
      "[7 8 9]\n"
     ]
    }
   ],
   "source": [
    "import numpy as np\n",
    "\n",
    "arr2 = np.array([[1, 2, 3, 4, 5], [6, 7, 8, 9, 10]])\n",
    "print(arr2)\n",
    "\n",
    "print(arr2[1, 1:4])     #Slicing 2-D Arrays   #From the second element, slice elements from index 1 to index 4 (not included)"
   ]
  },
  {
   "cell_type": "code",
   "execution_count": 5,
   "id": "f344a1ec",
   "metadata": {},
   "outputs": [
    {
     "name": "stdout",
     "output_type": "stream",
     "text": [
      "[5 6 7 8 9]\n"
     ]
    }
   ],
   "source": [
    "import numpy as np\n",
    "\n",
    "arr3 = np.array([1, 2, 3, 4, 5, 6, 7, 8, 9])    # NumPy array with elements from 1 to 9\n",
    "\n",
    "print(arr3[4:])"
   ]
  },
  {
   "cell_type": "code",
   "execution_count": 6,
   "id": "6b0cd86a",
   "metadata": {},
   "outputs": [
    {
     "name": "stdout",
     "output_type": "stream",
     "text": [
      "[1 2 3 4]\n"
     ]
    }
   ],
   "source": [
    "import numpy as np\n",
    "\n",
    "arr4 = np.array([1, 2, 3, 4, 5, 6, 7, 8, 9])    # NumPy array with elements from 1 to 9\n",
    "print(arr4[:4])"
   ]
  },
  {
   "cell_type": "code",
   "execution_count": 7,
   "id": "c13ebb91",
   "metadata": {},
   "outputs": [
    {
     "name": "stdout",
     "output_type": "stream",
     "text": [
      "[2]\n"
     ]
    }
   ],
   "source": [
    "import numpy as np\n",
    "\n",
    "arr5 = np.array([1, 2, 3, 4, 5, 6, 7, 8, 9])\n",
    "print(arr5[1:4:3])"
   ]
  },
  {
   "cell_type": "code",
   "execution_count": 8,
   "id": "cf4b95e4",
   "metadata": {},
   "outputs": [
    {
     "name": "stdout",
     "output_type": "stream",
     "text": [
      "[4]\n"
     ]
    }
   ],
   "source": [
    "import numpy as np\n",
    "\n",
    "arr6 = np.array([[1, 2, 3, 4, 5], [6, 7, 8, 9, 10]])   #2D array\n",
    "print(arr6[0:1, 3])"
   ]
  },
  {
   "cell_type": "code",
   "execution_count": 9,
   "id": "65933d75",
   "metadata": {},
   "outputs": [
    {
     "name": "stdout",
     "output_type": "stream",
     "text": [
      "[4]\n",
      "(2, 5)\n"
     ]
    }
   ],
   "source": [
    "import numpy as np\n",
    "\n",
    "arr7 = np.array([[1, 2, 3, 4, 5], [6, 7, 8, 9, 10]])   #2D array\n",
    "\n",
    "print(arr7[0:1, 3])\n",
    "print(arr7.shape)   #finding the shape of sliced array"
   ]
  },
  {
   "cell_type": "code",
   "execution_count": 11,
   "id": "8e7a9db2",
   "metadata": {},
   "outputs": [
    {
     "name": "stdout",
     "output_type": "stream",
     "text": [
      "[2]\n",
      "(9,)\n"
     ]
    }
   ],
   "source": [
    "import numpy as np\n",
    "\n",
    "arr8 = np.array([1, 2, 3, 4, 5, 6, 7, 8, 9])\n",
    "print(arr8[1:4:3])\n",
    "print(arr8.shape)"
   ]
  },
  {
   "cell_type": "code",
   "execution_count": null,
   "id": "f3974fd9",
   "metadata": {},
   "outputs": [],
   "source": []
  }
 ],
 "metadata": {
  "kernelspec": {
   "display_name": "Python 3 (ipykernel)",
   "language": "python",
   "name": "python3"
  },
  "language_info": {
   "codemirror_mode": {
    "name": "ipython",
    "version": 3
   },
   "file_extension": ".py",
   "mimetype": "text/x-python",
   "name": "python",
   "nbconvert_exporter": "python",
   "pygments_lexer": "ipython3",
   "version": "3.9.10"
  }
 },
 "nbformat": 4,
 "nbformat_minor": 5
}
