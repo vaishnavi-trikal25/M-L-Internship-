{
 "cells": [
  {
   "cell_type": "markdown",
   "id": "43b8108c",
   "metadata": {},
   "source": [
    "# Checking the Data Type of an Array"
   ]
  },
  {
   "cell_type": "code",
   "execution_count": 1,
   "id": "54e0fa7f",
   "metadata": {},
   "outputs": [
    {
     "name": "stdout",
     "output_type": "stream",
     "text": [
      "int32\n"
     ]
    }
   ],
   "source": [
    "import numpy as np\n",
    "\n",
    "arr = np.array([1, 2, 3, 4, 5, 5, 4])\n",
    "\n",
    "print(arr.dtype)"
   ]
  },
  {
   "cell_type": "code",
   "execution_count": 2,
   "id": "c6db6e3f",
   "metadata": {},
   "outputs": [
    {
     "name": "stdout",
     "output_type": "stream",
     "text": [
      "<U6\n"
     ]
    }
   ],
   "source": [
    "import numpy as np\n",
    "\n",
    "arr1 = np.array(['hello', 'world!'])\n",
    "\n",
    "print(arr1.dtype)"
   ]
  },
  {
   "cell_type": "markdown",
   "id": "15a0a583",
   "metadata": {},
   "source": [
    "# Creating Arrays With a Defined Data Type"
   ]
  },
  {
   "cell_type": "code",
   "execution_count": 4,
   "id": "d1b39f82",
   "metadata": {},
   "outputs": [
    {
     "name": "stdout",
     "output_type": "stream",
     "text": [
      "[b'1' b'2' b'3']\n",
      "|S1\n"
     ]
    }
   ],
   "source": [
    "#Create an array with data type string:\n",
    "import numpy as np\n",
    "\n",
    "arr2 = np.array([1, 2, 3], dtype='S')\n",
    "\n",
    "print(arr2)\n",
    "print(arr2.dtype)"
   ]
  },
  {
   "cell_type": "code",
   "execution_count": 5,
   "id": "6231adc8",
   "metadata": {},
   "outputs": [
    {
     "name": "stdout",
     "output_type": "stream",
     "text": [
      "[1 2 3]\n",
      "int32\n"
     ]
    }
   ],
   "source": [
    "import numpy as np\n",
    "\n",
    "arr3 = np.array([1, 2, 3], dtype='i4')    #Create an array with data type 3 bytes integer:\n",
    "\n",
    "print(arr3)\n",
    "print(arr3.dtype)"
   ]
  },
  {
   "cell_type": "markdown",
   "id": "3869b887",
   "metadata": {},
   "source": [
    "# Converting Data Type on Existing Arrays"
   ]
  },
  {
   "cell_type": "code",
   "execution_count": 7,
   "id": "7ad885e7",
   "metadata": {},
   "outputs": [
    {
     "name": "stdout",
     "output_type": "stream",
     "text": [
      "[1 2 3]\n",
      "int32\n"
     ]
    }
   ],
   "source": [
    "import numpy as np\n",
    "\n",
    "arr4 = np.array([1.1, 2.1, 3.1])\n",
    "\n",
    "newarr = arr4.astype('i')    #change data type from float to integer by using 'i' as parameter value\n",
    "\n",
    "print(newarr)\n",
    "print(newarr.dtype)"
   ]
  },
  {
   "cell_type": "code",
   "execution_count": 12,
   "id": "cc6c8188",
   "metadata": {},
   "outputs": [
    {
     "name": "stdout",
     "output_type": "stream",
     "text": [
      "[ True False  True False]\n",
      "bool\n"
     ]
    }
   ],
   "source": [
    "import numpy as np\n",
    "\n",
    "arr5 = np.array([1, 0, 1, 0])\n",
    "\n",
    "newarr = arr5.astype(bool)\n",
    "\n",
    "print(newarr)\n",
    "print(newarr.dtype)"
   ]
  },
  {
   "cell_type": "code",
   "execution_count": 13,
   "id": "ae8ff91c",
   "metadata": {},
   "outputs": [
    {
     "name": "stdout",
     "output_type": "stream",
     "text": [
      "[1 2 3]\n",
      "int32\n"
     ]
    }
   ],
   "source": [
    "import numpy as np\n",
    "\n",
    "arr6 = np.array([1.1, 2.1, 3.1])\n",
    "\n",
    "newarr = arr6.astype(int)    #Change data type from float to integer by using int as parameter value\n",
    "\n",
    "print(newarr)\n",
    "print(newarr.dtype)"
   ]
  },
  {
   "cell_type": "code",
   "execution_count": null,
   "id": "3dee980a",
   "metadata": {},
   "outputs": [],
   "source": []
  }
 ],
 "metadata": {
  "kernelspec": {
   "display_name": "Python 3 (ipykernel)",
   "language": "python",
   "name": "python3"
  },
  "language_info": {
   "codemirror_mode": {
    "name": "ipython",
    "version": 3
   },
   "file_extension": ".py",
   "mimetype": "text/x-python",
   "name": "python",
   "nbconvert_exporter": "python",
   "pygments_lexer": "ipython3",
   "version": "3.9.10"
  }
 },
 "nbformat": 4,
 "nbformat_minor": 5
}
