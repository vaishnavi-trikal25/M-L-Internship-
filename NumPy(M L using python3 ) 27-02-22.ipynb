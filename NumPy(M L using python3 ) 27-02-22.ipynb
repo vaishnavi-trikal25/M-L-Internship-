{
 "cells": [
  {
   "cell_type": "code",
   "execution_count": 9,
   "id": "0891f5e6",
   "metadata": {},
   "outputs": [
    {
     "name": "stdout",
     "output_type": "stream",
     "text": [
      "Matrix A is : \n",
      "\n",
      "\n",
      "[[list([5, 6, 7]) list([4, 6])]]\n",
      "Matrix B is : \n",
      "\n",
      "\n",
      "[[list([1, 2, 3]) list([4, 5])]]\n"
     ]
    }
   ],
   "source": [
    "import numpy as np\n",
    "a = np.matrix([[5, 6, 7], [4, 6]])\n",
    "b = np.matrix([[1, 2, 3],[4, 5]])\n",
    "\n",
    "print(\"Matrix A is : \\n\\n\")\n",
    "print(a)\n",
    "\n",
    "print(\"Matrix B is : \\n\\n\")\n",
    "print(b)"
   ]
  },
  {
   "cell_type": "code",
   "execution_count": 11,
   "id": "e233e02b",
   "metadata": {},
   "outputs": [
    {
     "name": "stdout",
     "output_type": "stream",
     "text": [
      "Matrix c is : \n",
      "\n",
      "\n",
      "[[5 7]\n",
      " [4 6]]\n",
      "Matrix d is : \n",
      "\n",
      "\n",
      "[[1 3]\n",
      " [4 5]]\n"
     ]
    }
   ],
   "source": [
    "import numpy as np\n",
    "a = np.array([[5, 7], [4, 6]])\n",
    "b = np.array([[1, 3], [4, 5]]) \n",
    "c = np.asmatrix(a)         #converting numpy array to a matrix\n",
    "d = np.asmatrix(b)\n",
    "\n",
    "print(\"Matrix c is : \\n\\n\")\n",
    "print(c)\n",
    "\n",
    "print(\"Matrix d is : \\n\\n\")\n",
    "print(d)"
   ]
  },
  {
   "cell_type": "code",
   "execution_count": 13,
   "id": "660355d0",
   "metadata": {},
   "outputs": [
    {
     "name": "stdout",
     "output_type": "stream",
     "text": [
      "Multiplication of a and  b is:\n",
      "[[ 5 21]\n",
      " [16 30]]\n",
      "Dot product of a and  b is:\n",
      "[[10 21]\n",
      " [16 30]]\n"
     ]
    }
   ],
   "source": [
    "import numpy as np\n",
    "a = np.array([[5, 7], [4, 6]])\n",
    "b = np.array([[1, 3], [4, 5]]) \n",
    "\n",
    "print('Multiplication of a and  b is:')\n",
    "print(a*b)    # element by element multiplication \n",
    "\n",
    "c = np.matrix([[5, 7],[4, 6]])\n",
    "d = np.matrix([[2, 3],[4, 5]])\n",
    "\n",
    "print('Dot product of c and  d is:')\n",
    "\n",
    "print(np.multiply(c,d))       #dot product"
   ]
  },
  {
   "cell_type": "code",
   "execution_count": 17,
   "id": "dd473b86",
   "metadata": {},
   "outputs": [
    {
     "name": "stdout",
     "output_type": "stream",
     "text": [
      "array a :\n",
      "  [[2 4 6]\n",
      " [1 3 5]]\n",
      "cumulative sum of array elements:  [ 2  6 12 13 16 21]\n"
     ]
    }
   ],
   "source": [
    "import numpy as np\n",
    "  \n",
    "a = np.array([[2, 4, 6],[1, 3, 5]])\n",
    "   \n",
    "print (\"array a :\\n \",a) \n",
    "    \n",
    "b = np.cumsum(a) \n",
    "print(\"cumulative sum of array elements: \",b) "
   ]
  },
  {
   "cell_type": "code",
   "execution_count": 18,
   "id": "8953af97",
   "metadata": {},
   "outputs": [
    {
     "name": "stdout",
     "output_type": "stream",
     "text": [
      "Input array :  [[2 4 6]\n",
      " [1 3 5]]\n",
      "cumulative sum of array elements taking axis 1:  [[ 2  6 12]\n",
      " [ 1  4  9]]\n"
     ]
    }
   ],
   "source": [
    "import numpy as np\n",
    "  \n",
    "a = np.array([[2, 4, 6], [1, 3, 5]])\n",
    "   \n",
    "print (\"Input array : \",a) \n",
    "    \n",
    "b = np.cumsum(a, axis = 1)     #cumulative sum by taking axis =1\n",
    "\n",
    "print(\"cumulative sum of array elements taking axis 1: \",b) "
   ]
  },
  {
   "cell_type": "code",
   "execution_count": null,
   "id": "a5892365",
   "metadata": {},
   "outputs": [],
   "source": []
  }
 ],
 "metadata": {
  "kernelspec": {
   "display_name": "Python 3 (ipykernel)",
   "language": "python",
   "name": "python3"
  },
  "language_info": {
   "codemirror_mode": {
    "name": "ipython",
    "version": 3
   },
   "file_extension": ".py",
   "mimetype": "text/x-python",
   "name": "python",
   "nbconvert_exporter": "python",
   "pygments_lexer": "ipython3",
   "version": "3.9.10"
  }
 },
 "nbformat": 4,
 "nbformat_minor": 5
}
