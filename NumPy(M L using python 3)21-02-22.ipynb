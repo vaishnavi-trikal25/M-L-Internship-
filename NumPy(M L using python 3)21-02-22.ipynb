{
 "cells": [
  {
   "cell_type": "code",
   "execution_count": 2,
   "id": "c2238641",
   "metadata": {},
   "outputs": [
    {
     "name": "stdout",
     "output_type": "stream",
     "text": [
      "[1, 2, 3]\n"
     ]
    }
   ],
   "source": [
    "# list of integers\n",
    "my_list = [1, 2, 3]\n",
    "print(my_list)\n"
   ]
  },
  {
   "cell_type": "code",
   "execution_count": 3,
   "id": "1f17720b",
   "metadata": {},
   "outputs": [
    {
     "name": "stdout",
     "output_type": "stream",
     "text": [
      "[1, 'Hello', 3.4]\n"
     ]
    }
   ],
   "source": [
    "# list with mixed data types\n",
    "my_list = [1, \"Hello\", 3.4]\n",
    "print(my_list)"
   ]
  },
  {
   "cell_type": "markdown",
   "id": "2bbdcf94",
   "metadata": {},
   "source": [
    "# Creating NumPy arrays"
   ]
  },
  {
   "cell_type": "code",
   "execution_count": 5,
   "id": "de7362a2",
   "metadata": {},
   "outputs": [],
   "source": [
    "import numpy as np  #importing numpy library"
   ]
  },
  {
   "cell_type": "code",
   "execution_count": 8,
   "id": "44510440",
   "metadata": {},
   "outputs": [
    {
     "name": "stdout",
     "output_type": "stream",
     "text": [
      "[0 1 2 3 4]\n",
      "(5,)\n"
     ]
    }
   ],
   "source": [
    "x= np.arange(5) #create a range from 0-4\n",
    "print(x)\n",
    "print(x.shape)"
   ]
  },
  {
   "cell_type": "code",
   "execution_count": 10,
   "id": "566d15ba",
   "metadata": {},
   "outputs": [
    {
     "name": "stdout",
     "output_type": "stream",
     "text": [
      "[  1  11  21  31  41  51  61  71  81  91 101 111 121 131 141 151 161 171\n",
      " 181 191 201 211 221 231 241 251 261 271 281 291 301 311 321 331 341 351\n",
      " 361 371 381 391 401 411 421 431 441 451 461 471 481 491]\n"
     ]
    }
   ],
   "source": [
    "x1 = np.arange(1,500,10) #initializing numpy array within a range with a gap of 10 numbers\n",
    "print(x1)"
   ]
  },
  {
   "cell_type": "code",
   "execution_count": 12,
   "id": "f4b9873e",
   "metadata": {},
   "outputs": [
    {
     "name": "stdout",
     "output_type": "stream",
     "text": [
      "[[0. 0. 0. 0. 0. 0. 0. 0. 0.]]\n"
     ]
    }
   ],
   "source": [
    "import numpy as np    \n",
    "x2 =np.zeros((1,9))    #initializing numpy array with zeros\n",
    "print(x2)"
   ]
  },
  {
   "cell_type": "code",
   "execution_count": 16,
   "id": "4f1383fc",
   "metadata": {},
   "outputs": [
    {
     "name": "stdout",
     "output_type": "stream",
     "text": [
      "[[0. 0. 0. 0. 0.]\n",
      " [0. 0. 0. 0. 0.]\n",
      " [0. 0. 0. 0. 0.]\n",
      " [0. 0. 0. 0. 0.]\n",
      " [0. 0. 0. 0. 0.]]\n",
      "(5, 5)\n"
     ]
    }
   ],
   "source": [
    "import numpy as np\n",
    "x3=np.zeros((5,5))  #initializing numpy array with zeros \n",
    "print(x3)\n",
    "print(x3.shape)     #checking the shape of the array"
   ]
  },
  {
   "cell_type": "code",
   "execution_count": 17,
   "id": "92951278",
   "metadata": {},
   "outputs": [
    {
     "data": {
      "text/plain": [
       "array([[10, 10, 10, 10, 10],\n",
       "       [10, 10, 10, 10, 10]])"
      ]
     },
     "execution_count": 17,
     "metadata": {},
     "output_type": "execute_result"
    }
   ],
   "source": [
    "import numpy as np\n",
    "x4=np.full((2,5),10)\n",
    "x4"
   ]
  },
  {
   "cell_type": "code",
   "execution_count": 18,
   "id": "2ca5543b",
   "metadata": {},
   "outputs": [
    {
     "data": {
      "text/plain": [
       "array([28, 26, 51, 72, 55])"
      ]
     },
     "execution_count": 18,
     "metadata": {},
     "output_type": "execute_result"
    }
   ],
   "source": [
    "import numpy as np\n",
    "x5=np.random.randint(1,100,5)   # printing 5 random numbers from 1-100\n",
    "x5"
   ]
  },
  {
   "cell_type": "code",
   "execution_count": 19,
   "id": "2edbc84a",
   "metadata": {},
   "outputs": [
    {
     "name": "stdout",
     "output_type": "stream",
     "text": [
      "[1, 8, 9, 5, 6]\n"
     ]
    }
   ],
   "source": [
    "list1=[1,8,9,5,6,]   \n",
    "x6=np.array(list1)    #\n",
    "print(list1)     #printing given list "
   ]
  },
  {
   "cell_type": "code",
   "execution_count": null,
   "id": "96a2745d",
   "metadata": {},
   "outputs": [],
   "source": []
  }
 ],
 "metadata": {
  "kernelspec": {
   "display_name": "Python 3 (ipykernel)",
   "language": "python",
   "name": "python3"
  },
  "language_info": {
   "codemirror_mode": {
    "name": "ipython",
    "version": 3
   },
   "file_extension": ".py",
   "mimetype": "text/x-python",
   "name": "python",
   "nbconvert_exporter": "python",
   "pygments_lexer": "ipython3",
   "version": "3.9.10"
  }
 },
 "nbformat": 4,
 "nbformat_minor": 5
}
