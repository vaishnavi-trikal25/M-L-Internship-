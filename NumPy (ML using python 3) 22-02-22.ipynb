{
 "cells": [
  {
   "cell_type": "code",
   "execution_count": 9,
   "id": "231898cb",
   "metadata": {},
   "outputs": [
    {
     "name": "stdout",
     "output_type": "stream",
     "text": [
      "[1 4 5 6 7]\n",
      "<class 'numpy.ndarray'>\n"
     ]
    }
   ],
   "source": [
    "import numpy as np\n",
    "list1=[1,4,5,6,7]\n",
    "arr=np.array(list1)\n",
    "print(arr)\n",
    "print(type(arr))"
   ]
  },
  {
   "cell_type": "code",
   "execution_count": 10,
   "id": "a6e62570",
   "metadata": {},
   "outputs": [
    {
     "name": "stdout",
     "output_type": "stream",
     "text": [
      "{1, 4, 5, 6, 7}\n",
      "<class 'numpy.ndarray'>\n"
     ]
    }
   ],
   "source": [
    "import numpy as np\n",
    "set={1,4,5,6,7}\n",
    "arr=np.array(set)\n",
    "print(arr)\n",
    "print(type(arr))"
   ]
  },
  {
   "cell_type": "code",
   "execution_count": 11,
   "id": "5eb5f169",
   "metadata": {},
   "outputs": [
    {
     "name": "stdout",
     "output_type": "stream",
     "text": [
      "[1 4 5 6 7]\n",
      "<class 'numpy.ndarray'>\n"
     ]
    }
   ],
   "source": [
    "import numpy as np\n",
    "tuple=[1,4,5,6,7]\n",
    "arr=np.array(tuple)\n",
    "print(arr)\n",
    "print(type(arr))"
   ]
  },
  {
   "cell_type": "code",
   "execution_count": 12,
   "id": "e15e950b",
   "metadata": {},
   "outputs": [
    {
     "name": "stdout",
     "output_type": "stream",
     "text": [
      "15\n"
     ]
    }
   ],
   "source": [
    "arr=np.array(15)\n",
    "print(arr)   #printing 0-dimensional array"
   ]
  },
  {
   "cell_type": "code",
   "execution_count": 13,
   "id": "5989e190",
   "metadata": {},
   "outputs": [
    {
     "name": "stdout",
     "output_type": "stream",
     "text": [
      "[15 30 90 66 84]\n"
     ]
    }
   ],
   "source": [
    "list=(15,30,90,66,84)\n",
    "arr=np.array(list)\n",
    "print(arr)   #printing 1-dimensional array"
   ]
  },
  {
   "cell_type": "code",
   "execution_count": 14,
   "id": "91813009",
   "metadata": {},
   "outputs": [
    {
     "name": "stdout",
     "output_type": "stream",
     "text": [
      "[[1 2 3]\n",
      " [5 6 7]]\n"
     ]
    }
   ],
   "source": [
    "import numpy as np \n",
    "arr=np.array([[1,2,3] , [5,6,7]])\n",
    "print(arr)     #printing 2-dimensional array\n"
   ]
  },
  {
   "cell_type": "code",
   "execution_count": 15,
   "id": "ffc5880f",
   "metadata": {},
   "outputs": [
    {
     "name": "stdout",
     "output_type": "stream",
     "text": [
      "Dimension of a is: 0\n",
      "Dimension of b is: 1\n",
      "Dimension of c is: 2\n"
     ]
    }
   ],
   "source": [
    "import numpy as np\n",
    "\n",
    "a=np.array(13)\n",
    "b=np.array([1,2,4,5])\n",
    "c=np.array([[1,2,3] , [5,6,7]])\n",
    "print(\"Dimension of a is:\",a.ndim)\n",
    "print(\"Dimension of b is:\",b.ndim)\n",
    "print(\"Dimension of c is:\",c.ndim)"
   ]
  },
  {
   "cell_type": "code",
   "execution_count": null,
   "id": "39cc0cd8",
   "metadata": {},
   "outputs": [],
   "source": []
  },
  {
   "cell_type": "code",
   "execution_count": null,
   "id": "8071b560",
   "metadata": {},
   "outputs": [],
   "source": []
  },
  {
   "cell_type": "code",
   "execution_count": null,
   "id": "bb7b8f7c",
   "metadata": {},
   "outputs": [],
   "source": []
  }
 ],
 "metadata": {
  "kernelspec": {
   "display_name": "Python 3 (ipykernel)",
   "language": "python",
   "name": "python3"
  },
  "language_info": {
   "codemirror_mode": {
    "name": "ipython",
    "version": 3
   },
   "file_extension": ".py",
   "mimetype": "text/x-python",
   "name": "python",
   "nbconvert_exporter": "python",
   "pygments_lexer": "ipython3",
   "version": "3.9.10"
  }
 },
 "nbformat": 4,
 "nbformat_minor": 5
}
