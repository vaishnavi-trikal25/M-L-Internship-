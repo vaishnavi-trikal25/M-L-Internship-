{
 "cells": [
  {
   "cell_type": "code",
   "execution_count": 33,
   "id": "4e31946c",
   "metadata": {},
   "outputs": [
    {
     "name": "stdout",
     "output_type": "stream",
     "text": [
      "\n",
      " A sequential array with a negative step: \n",
      " [10  8  6  4]\n",
      "\n",
      " Elements at these indices are:\n",
      " [4 8 6]\n"
     ]
    }
   ],
   "source": [
    "# Python program to demonstrate \n",
    "# the use of index arrays.\n",
    "import numpy as np\n",
    " \n",
    "# Create a sequence of integers from\n",
    "# 10 to 1 with a step of -2\n",
    "a = np.arange(10, 2, -2) \n",
    "print(\"\\n A sequential array with a negative step: \\n\",a)\n",
    " \n",
    "# Indexes are specified inside the np.array method.\n",
    "newarr = a[np.array([3, 1, 2 ])]\n",
    "print(\"\\n Elements at these indices are:\\n\",newarr)"
   ]
  },
  {
   "cell_type": "code",
   "execution_count": 34,
   "id": "d0b1c389",
   "metadata": {},
   "outputs": [
    {
     "name": "stdout",
     "output_type": "stream",
     "text": [
      "10\n"
     ]
    }
   ],
   "source": [
    "import numpy as np\n",
    "arr=np.array([1,6,7,8,3,5])\n",
    "print(arr[2] + arr[4])         #addition by indexing"
   ]
  },
  {
   "cell_type": "code",
   "execution_count": null,
   "id": "47aa45d4",
   "metadata": {},
   "outputs": [],
   "source": []
  },
  {
   "cell_type": "markdown",
   "id": "cca756ce",
   "metadata": {},
   "source": [
    "# accessing 2-D array elements "
   ]
  },
  {
   "cell_type": "code",
   "execution_count": 35,
   "id": "a1757456",
   "metadata": {},
   "outputs": [
    {
     "name": "stdout",
     "output_type": "stream",
     "text": [
      "[80, 87, 65, 89, 85]\n",
      "[72, 85, 87, 90, 69]\n",
      "[96, 91, 70, 78, 97]\n"
     ]
    }
   ],
   "source": [
    "a = [ [72, 85, 87, 90, 69], [80, 87, 65, 89, 85], [96, 91, 70, 78, 97], [90, 93, 91, 90, 94], [57, 89, 82, 69, 60] ]  \n",
    "#print(a)  \n",
    "print(a[1]) # print all elements of index 1  \n",
    "print(a[0]) # print all elements of index 0  \n",
    "print(a[2]) # print all elements of index 2"
   ]
  },
  {
   "cell_type": "markdown",
   "id": "9cd103e9",
   "metadata": {},
   "source": [
    "# accessing 3-D array elements"
   ]
  },
  {
   "cell_type": "code",
   "execution_count": 36,
   "id": "a84bcbdd",
   "metadata": {},
   "outputs": [
    {
     "name": "stdout",
     "output_type": "stream",
     "text": [
      "Create 3-d array: [[[ 2 17]\n",
      "  [45 78]]\n",
      "\n",
      " [[88 92]\n",
      "  [60 76]]\n",
      "\n",
      " [[76 33]\n",
      "  [20 18]]]\n",
      "3\n",
      "(3, 2, 2)\n"
     ]
    }
   ],
   "source": [
    "import numpy as np\n",
    "\n",
    "arr1 = np.array([[[2,17], [45, 78]], [[88, 92], [60, 76]],[[76,33],[20,18]]])\n",
    "print(\"Create 3-d array:\",arr1)\n",
    "print(arr1.ndim)\n",
    "print(arr1.shape)"
   ]
  },
  {
   "cell_type": "code",
   "execution_count": 37,
   "id": "570b1a4b",
   "metadata": {},
   "outputs": [
    {
     "name": "stdout",
     "output_type": "stream",
     "text": [
      "[3 4]\n"
     ]
    }
   ],
   "source": [
    "import numpy as np\n",
    "list=[1,2,3,4,4]\n",
    "arr=np.array(list)\n",
    "print(arr[[2,3]])  #print elements present atindex 2 and 3"
   ]
  },
  {
   "cell_type": "code",
   "execution_count": 38,
   "id": "cbb0da33",
   "metadata": {},
   "outputs": [
    {
     "name": "stdout",
     "output_type": "stream",
     "text": [
      "[[[ 2 17]\n",
      "  [20 18]]]\n",
      "20\n"
     ]
    }
   ],
   "source": [
    "import numpy as np\n",
    "b=np.array([[[2,17],[20,18]]])  #3-d array\n",
    "print(b)\n",
    "print(b[0,1,0])\n"
   ]
  },
  {
   "cell_type": "code",
   "execution_count": 39,
   "id": "75e1c12c",
   "metadata": {},
   "outputs": [
    {
     "name": "stdout",
     "output_type": "stream",
     "text": [
      "[[72 85 87]\n",
      " [80 87 85]\n",
      " [96 91 70]\n",
      " [57 69 60]]\n",
      "87\n"
     ]
    }
   ],
   "source": [
    "import numpy as np\n",
    "c = np.array([ [72, 85, 87], [80, 87, 85], [96, 91, 70], [57, 69, 60] ])\n",
    "print(c)\n",
    "print(c[1,1])"
   ]
  },
  {
   "cell_type": "code",
   "execution_count": 40,
   "id": "55958996",
   "metadata": {},
   "outputs": [
    {
     "name": "stdout",
     "output_type": "stream",
     "text": [
      "7\n"
     ]
    }
   ],
   "source": [
    "import numpy as np\n",
    "arr3=np.array([1,6,7,8,3,5])\n",
    "print(arr3[-4])"
   ]
  },
  {
   "cell_type": "code",
   "execution_count": 41,
   "id": "85ba2712",
   "metadata": {},
   "outputs": [
    {
     "name": "stdout",
     "output_type": "stream",
     "text": [
      "7\n"
     ]
    }
   ],
   "source": [
    "import numpy as np\n",
    "arr4=np.array([[1,6,7,8,3,5]])\n",
    "print(arr4[0,-4])"
   ]
  },
  {
   "cell_type": "code",
   "execution_count": 42,
   "id": "5f1dcba5",
   "metadata": {},
   "outputs": [
    {
     "name": "stdout",
     "output_type": "stream",
     "text": [
      "[1 2 3 4 4]\n",
      "[False False False  True  True]\n"
     ]
    }
   ],
   "source": [
    "import numpy as np\n",
    "list1=[1,2,3,4,4]\n",
    "arr5=np.array(list1)\n",
    "print(arr5)            \n",
    "print(arr5>3)             #boolean indexing"
   ]
  },
  {
   "cell_type": "code",
   "execution_count": 43,
   "id": "653817e0",
   "metadata": {},
   "outputs": [
    {
     "name": "stdout",
     "output_type": "stream",
     "text": [
      "[1 2 3 4 4]\n",
      "[4 4]\n"
     ]
    }
   ],
   "source": [
    "import numpy as np\n",
    "list1=[1,2,3,4,4]\n",
    "arr5=np.array(list1)\n",
    "print(arr5)            \n",
    "print(arr5[arr5>3])"
   ]
  },
  {
   "cell_type": "code",
   "execution_count": 44,
   "id": "771e4daa",
   "metadata": {},
   "outputs": [
    {
     "name": "stdout",
     "output_type": "stream",
     "text": [
      "[0 1 2 3 4 5 6 7 8 9]\n",
      "[1 3 5 7 9]\n"
     ]
    }
   ],
   "source": [
    "import numpy as np\n",
    "num=np.arange(10)\n",
    "print(num)\n",
    "odd_num= num[num % 2 == 1]    #odd numbers from given range\n",
    "print(odd_num)"
   ]
  },
  {
   "cell_type": "code",
   "execution_count": null,
   "id": "3b42e67e",
   "metadata": {},
   "outputs": [],
   "source": []
  },
  {
   "cell_type": "code",
   "execution_count": null,
   "id": "a000ea82",
   "metadata": {},
   "outputs": [],
   "source": []
  }
 ],
 "metadata": {
  "kernelspec": {
   "display_name": "Python 3 (ipykernel)",
   "language": "python",
   "name": "python3"
  },
  "language_info": {
   "codemirror_mode": {
    "name": "ipython",
    "version": 3
   },
   "file_extension": ".py",
   "mimetype": "text/x-python",
   "name": "python",
   "nbconvert_exporter": "python",
   "pygments_lexer": "ipython3",
   "version": "3.9.10"
  }
 },
 "nbformat": 4,
 "nbformat_minor": 5
}
