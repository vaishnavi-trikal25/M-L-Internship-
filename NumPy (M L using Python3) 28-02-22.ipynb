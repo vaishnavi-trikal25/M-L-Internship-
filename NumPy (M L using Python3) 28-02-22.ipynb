{
 "cells": [
  {
   "cell_type": "code",
   "execution_count": 16,
   "id": "28a5803d",
   "metadata": {},
   "outputs": [
    {
     "name": "stdout",
     "output_type": "stream",
     "text": [
      "Original array is: [3 2 0 6 8 9 1]\n",
      "Sorted array is: [0 1 2 3 6 8 9]\n"
     ]
    }
   ],
   "source": [
    "import numpy as np\n",
    "\n",
    "arr = np.array([3, 2, 0, 6, 8, 9, 1])\n",
    "print('Original array is:',arr)\n",
    "print('Sorted array is:',np.sort(arr))   #print sorted array"
   ]
  },
  {
   "cell_type": "code",
   "execution_count": 17,
   "id": "d12fe8e3",
   "metadata": {},
   "outputs": [
    {
     "name": "stdout",
     "output_type": "stream",
     "text": [
      "Original array is: ['Apple' 'Tiger' 'Zebra' 'Mango']\n",
      "Sorted array is\n",
      "['Apple' 'Mango' 'Tiger' 'Zebra']\n"
     ]
    }
   ],
   "source": [
    "import numpy as np\n",
    "\n",
    "arr1 = np.array(['Apple', 'Tiger', 'Zebra', 'Mango'])\n",
    "print('Original array is:',arr1)\n",
    "print('Sorted array is')\n",
    "print(np.sort(arr1))   #sort arrays of strings"
   ]
  },
  {
   "cell_type": "code",
   "execution_count": 18,
   "id": "721d6a4b",
   "metadata": {},
   "outputs": [
    {
     "name": "stdout",
     "output_type": "stream",
     "text": [
      "Input unsorted array :  [2 0 1 5 4 1 9]\n",
      "Output sorted array indices :  [1 2 5 0 4 3 6]\n"
     ]
    }
   ],
   "source": [
    "import numpy as np\n",
    "  \n",
    "# input array\n",
    "arr = np.array([ 2, 0,  1, 5, 4, 1, 9])\n",
    "print (\"Input unsorted array : \", arr) \n",
    "\n",
    "print (\"Output sorted array indices : \", np.argsort(arr))\n"
   ]
  },
  {
   "cell_type": "code",
   "execution_count": 19,
   "id": "f0044cdb",
   "metadata": {},
   "outputs": [
    {
     "name": "stdout",
     "output_type": "stream",
     "text": [
      "[71 49 44 35 27 13  7]\n"
     ]
    }
   ],
   "source": [
    "\n",
    "import numpy as np\n",
    " \n",
    "arr = np.array([49, 7, 44, 27, 13, 35, 71])\n",
    " \n",
    "sorted_array = np.sort(arr)[::-1]    #printing array in descending order\n",
    "print(sorted_array)"
   ]
  },
  {
   "cell_type": "code",
   "execution_count": 20,
   "id": "1edc3ac7",
   "metadata": {},
   "outputs": [
    {
     "name": "stdout",
     "output_type": "stream",
     "text": [
      "[1 2 3 4 5 6 7]\n",
      "[7 6 5 4 3 2 1]\n"
     ]
    }
   ],
   "source": [
    "arr = np.array([7, 5, 3, 2, 6, 1, 4])\n",
    "\n",
    "sorted_array = np.sort(arr)       # Sort in ascending order\n",
    "\n",
    "reverse_array = sorted_array[::-1]     # Reverse the sorted array\n",
    "print(sorted_array)\n",
    "print(reverse_array)"
   ]
  },
  {
   "cell_type": "code",
   "execution_count": null,
   "id": "1db30662",
   "metadata": {},
   "outputs": [],
   "source": []
  }
 ],
 "metadata": {
  "kernelspec": {
   "display_name": "Python 3 (ipykernel)",
   "language": "python",
   "name": "python3"
  },
  "language_info": {
   "codemirror_mode": {
    "name": "ipython",
    "version": 3
   },
   "file_extension": ".py",
   "mimetype": "text/x-python",
   "name": "python",
   "nbconvert_exporter": "python",
   "pygments_lexer": "ipython3",
   "version": "3.9.10"
  }
 },
 "nbformat": 4,
 "nbformat_minor": 5
}
